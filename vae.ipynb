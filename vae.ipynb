{
 "cells": [
  {
   "cell_type": "code",
   "execution_count": 1,
   "metadata": {},
   "outputs": [],
   "source": [
    "import os\n",
    "import numpy as np\n",
    "\n",
    "import torch\n",
    "import torch.nn as nn\n",
    "import matplotlib.pyplot as plt\n",
    "\n",
    "import torchvision.datasets as datasets\n",
    "import torchvision.transforms as transforms\n",
    "import torchvision.utils as vutils\n",
    "import os\n",
    "from tqdm.notebook import trange"
   ]
  },
  {
   "cell_type": "code",
   "execution_count": 2,
   "metadata": {},
   "outputs": [],
   "source": [
    "os.environ[\"CUDA_VISIBLE_DEVICES\"] = \"4\"\n"
   ]
  },
  {
   "cell_type": "code",
   "execution_count": 3,
   "metadata": {},
   "outputs": [],
   "source": [
    "class VAE(nn.Module):\n",
    "    def __init__(self, x_shape, z_dim, hidden_dim=500):\n",
    "        super().__init__()\n",
    "        \n",
    "        self.x_shape = x_shape\n",
    "        self.x_dim = np.prod(x_shape)\n",
    "        self.z_dim = z_dim\n",
    "        \n",
    "        self.encoder = nn.Sequential(\n",
    "            nn.Linear(self.x_dim, hidden_dim),\n",
    "            nn.ReLU(),\n",
    "            nn.Linear(hidden_dim, hidden_dim),\n",
    "            nn.ReLU(),\n",
    "            nn.Linear(hidden_dim, hidden_dim),\n",
    "            nn.ReLU(),   \n",
    "        )\n",
    "\n",
    "        self.stat_net = nn.Linear(hidden_dim, \n",
    "                                  2 * z_dim)\n",
    "        \n",
    "        self.decoder = nn.Sequential(\n",
    "            nn.Linear(z_dim, hidden_dim),\n",
    "            nn.ReLU(),\n",
    "            nn.Linear(hidden_dim, hidden_dim),\n",
    "            nn.ReLU(),\n",
    "            nn.Linear(hidden_dim, self.x_dim),\n",
    "            nn.Sigmoid(),\n",
    "        )\n",
    "    \n",
    "    def forward(self, x):\n",
    "        x = x.view(-1, self.x_dim)\n",
    "        h = self.encoder(x)\n",
    "        stats = self.stat_net(h)\n",
    "\n",
    "        z_mu, z_logvar = torch.chunk(stats, 2, dim=-1)\n",
    "        \n",
    "        # reparameterization trick\n",
    "    \n",
    "        _std = (torch.randn_like(z_mu) \n",
    "                * torch.exp(0.5*z_logvar))\n",
    "        z = z_mu + _std\n",
    "        \n",
    "        out = self.decoder(z)\n",
    "\n",
    "        return out, z_mu, z_logvar\n",
    "        \n",
    "\n",
    "    def generate(self, z):\n",
    "        return self.decoder(z).view(len(z), *self.x_shape)\n"
   ]
  },
  {
   "cell_type": "code",
   "execution_count": 4,
   "metadata": {},
   "outputs": [],
   "source": [
    "def compute_elbo(x, x_reconst, mu, logvar):\n",
    "    criterion = nn.BCELoss(reduction=\"sum\")\n",
    "    log_likelihood = -criterion(x_reconst, x.view(-1, 784))\n",
    "    kl = -0.5 * torch.sum(1 + logvar -mu.pow(2) - logvar.exp())\n",
    "    \n",
    "    return log_likelihood - kl"
   ]
  },
  {
   "cell_type": "code",
   "execution_count": 5,
   "metadata": {},
   "outputs": [],
   "source": [
    "z_dim = 2\n",
    "\n",
    "n_epoch = 10\n",
    "batch_size = 200\n",
    "lr = 1e-3\n",
    "\n",
    "device = torch.cuda.current_device()\n",
    "\n",
    "dataset = datasets.MNIST('.', download=True, transform=transforms.ToTensor())\n",
    "loader = torch.utils.data.DataLoader(dataset, batch_size=batch_size, shuffle=True)\n",
    "x_shape = (1, 28, 28)\n",
    "vae = VAE(x_shape=x_shape, z_dim=z_dim).to(device)\n",
    "optimizer = torch.optim.Adam(vae.parameters(), lr=lr)"
   ]
  },
  {
   "cell_type": "code",
   "execution_count": 6,
   "metadata": {},
   "outputs": [
    {
     "output_type": "display_data",
     "data": {
      "text/plain": "HBox(children=(FloatProgress(value=0.0, max=10.0), HTML(value='')))",
      "application/vnd.jupyter.widget-view+json": {
       "version_major": 2,
       "version_minor": 0,
       "model_id": "4223f2f6b7d349b6bd558844609ad15a"
      }
     },
     "metadata": {}
    },
    {
     "output_type": "stream",
     "name": "stdout",
     "text": [
      "\n"
     ]
    }
   ],
   "source": [
    "# essential code without log\n",
    "\n",
    "for epoch_i in trange(n_epoch):\n",
    "    for x, _ in loader:\n",
    "        x = x.to(device)\n",
    "        \n",
    "        x_reconst, mu, logvar = vae(x)\n",
    "        \n",
    "        elbo = compute_elbo(x, x_reconst, mu, logvar)\n",
    "        loss = -elbo\n",
    "        \n",
    "        optimizer.zero_grad()\n",
    "        loss.backward()\n",
    "        optimizer.step()\n",
    "             "
   ]
  },
  {
   "cell_type": "code",
   "execution_count": 7,
   "metadata": {},
   "outputs": [
    {
     "output_type": "error",
     "ename": "NameError",
     "evalue": "name 'plt' is not defined",
     "traceback": [
      "\u001b[0;31m---------------------------------------------------------------------------\u001b[0m",
      "\u001b[0;31mNameError\u001b[0m                                 Traceback (most recent call last)",
      "\u001b[0;32m<ipython-input-7-000797e2cf15>\u001b[0m in \u001b[0;36m<module>\u001b[0;34m\u001b[0m\n\u001b[0;32m----> 1\u001b[0;31m \u001b[0mplt\u001b[0m\u001b[0;34m.\u001b[0m\u001b[0mfigure\u001b[0m\u001b[0;34m(\u001b[0m\u001b[0mfigsize\u001b[0m\u001b[0;34m=\u001b[0m\u001b[0;34m(\u001b[0m\u001b[0;36m10\u001b[0m\u001b[0;34m,\u001b[0m \u001b[0;36m10\u001b[0m\u001b[0;34m)\u001b[0m\u001b[0;34m)\u001b[0m\u001b[0;34m\u001b[0m\u001b[0;34m\u001b[0m\u001b[0m\n\u001b[0m\u001b[1;32m      2\u001b[0m \u001b[0mz_range\u001b[0m \u001b[0;34m=\u001b[0m \u001b[0mnp\u001b[0m\u001b[0;34m.\u001b[0m\u001b[0marange\u001b[0m\u001b[0;34m(\u001b[0m\u001b[0;34m-\u001b[0m\u001b[0;36m1\u001b[0m\u001b[0;34m,\u001b[0m \u001b[0;36m1\u001b[0m\u001b[0;34m,\u001b[0m \u001b[0;36m0.1\u001b[0m\u001b[0;34m)\u001b[0m\u001b[0;34m\u001b[0m\u001b[0;34m\u001b[0m\u001b[0m\n\u001b[1;32m      3\u001b[0m \u001b[0mz_grid\u001b[0m \u001b[0;34m=\u001b[0m \u001b[0mnp\u001b[0m\u001b[0;34m.\u001b[0m\u001b[0mstack\u001b[0m\u001b[0;34m(\u001b[0m\u001b[0mnp\u001b[0m\u001b[0;34m.\u001b[0m\u001b[0mmeshgrid\u001b[0m\u001b[0;34m(\u001b[0m\u001b[0mz_range\u001b[0m\u001b[0;34m,\u001b[0m \u001b[0mz_range\u001b[0m\u001b[0;34m)\u001b[0m\u001b[0;34m,\u001b[0m \u001b[0maxis\u001b[0m\u001b[0;34m=\u001b[0m\u001b[0;34m-\u001b[0m\u001b[0;36m1\u001b[0m\u001b[0;34m)\u001b[0m\u001b[0;34m\u001b[0m\u001b[0;34m\u001b[0m\u001b[0m\n\u001b[1;32m      4\u001b[0m \u001b[0;34m\u001b[0m\u001b[0m\n\u001b[1;32m      5\u001b[0m \u001b[0mz_grid_flat\u001b[0m \u001b[0;34m=\u001b[0m \u001b[0mz_grid\u001b[0m\u001b[0;34m.\u001b[0m\u001b[0mreshape\u001b[0m\u001b[0;34m(\u001b[0m\u001b[0;34m-\u001b[0m\u001b[0;36m1\u001b[0m\u001b[0;34m,\u001b[0m \u001b[0;36m2\u001b[0m\u001b[0;34m)\u001b[0m\u001b[0;34m\u001b[0m\u001b[0;34m\u001b[0m\u001b[0m\n",
      "\u001b[0;31mNameError\u001b[0m: name 'plt' is not defined"
     ]
    }
   ],
   "source": [
    "plt.figure(figsize=(10, 10))\n",
    "z_range = np.arange(-1, 1, 0.1)\n",
    "z_grid = np.stack(np.meshgrid(z_range, z_range), axis=-1)\n",
    "\n",
    "z_grid_flat = z_grid.reshape(-1, 2)\n",
    "zs = torch.tensor(z_grid_flat, dtype=torch.float).to(device)\n",
    "x_reconst_flat = vae.generate(zs)\n",
    "x_reconst = x_reconst_flat.detach().cpu().numpy().reshape(-1, *x_shape)\n",
    "\n",
    "plt.imshow(np.transpose(\n",
    "    vutils.make_grid(torch.tensor(x_reconst), padding=2, normalize=True, nrow=20).detach().cpu(),(1,2,0)\n",
    "))\n",
    "plt.axis('off')\n",
    "plt.title('Learned z space')"
   ]
  },
  {
   "cell_type": "code",
   "execution_count": null,
   "metadata": {},
   "outputs": [],
   "source": []
  }
 ],
 "metadata": {
  "kernelspec": {
   "name": "python3710jvsc74a57bd00c764f42a501b571a73f0bd9d715ceb6477c49439fd24a2b03fc4c2d70973004",
   "display_name": "Python 3.7.10 64-bit ('torch-1.7': conda)"
  },
  "language_info": {
   "codemirror_mode": {
    "name": "ipython",
    "version": 3
   },
   "file_extension": ".py",
   "mimetype": "text/x-python",
   "name": "python",
   "nbconvert_exporter": "python",
   "pygments_lexer": "ipython3",
   "version": "3.7.10"
  }
 },
 "nbformat": 4,
 "nbformat_minor": 4
}